{
 "cells": [
  {
   "cell_type": "markdown",
   "id": "bbddf67f",
   "metadata": {},
   "source": [
    "## TURKISH\n",
    "## Proje: Türkçe Metin Sınıflandırma\n",
    "Bu projede, çeşitli Türkçe metinleri kategorilerine ayıran bir sınıflandırıcı geliştireceğiz. Kullanılacak model `SBERT` + `Agglomerative Clustering` olacak.\n",
    " \n",
    "Veri kaynağı: Datas/data.csv\n",
    "Hedef: 'content' sütunundaki metni kullanarak 'category' sütununu tahmin etmek."
   ]
  },
  {
   "cell_type": "code",
   "execution_count": 1,
   "id": "4d6f1d2b",
   "metadata": {},
   "outputs": [],
   "source": [
    "import pandas as pd\n",
    "import numpy as np\n",
    "from sklearn.model_selection import train_test_split\n",
    "from sklearn.feature_extraction.text import TfidfVectorizer\n",
    "from sklearn.preprocessing import LabelEncoder\n",
    "from sklearn.svm import LinearSVC\n",
    "from sklearn.metrics import classification_report, accuracy_score\n",
    "from sklearn.pipeline import Pipeline\n",
    "import nltk\n",
    "from nltk.corpus import stopwords\n",
    "import re\n",
    "import string"
   ]
  },
  {
   "cell_type": "code",
   "execution_count": 2,
   "id": "a0791750",
   "metadata": {},
   "outputs": [
    {
     "data": {
      "text/html": [
       "<div>\n",
       "<style scoped>\n",
       "    .dataframe tbody tr th:only-of-type {\n",
       "        vertical-align: middle;\n",
       "    }\n",
       "\n",
       "    .dataframe tbody tr th {\n",
       "        vertical-align: top;\n",
       "    }\n",
       "\n",
       "    .dataframe thead th {\n",
       "        text-align: right;\n",
       "    }\n",
       "</style>\n",
       "<table border=\"1\" class=\"dataframe\">\n",
       "  <thead>\n",
       "    <tr style=\"text-align: right;\">\n",
       "      <th></th>\n",
       "      <th>category</th>\n",
       "      <th>content</th>\n",
       "    </tr>\n",
       "  </thead>\n",
       "  <tbody>\n",
       "    <tr>\n",
       "      <th>175</th>\n",
       "      <td>Bilimsel</td>\n",
       "      <td>Damson Cisor BT5 125  www.damsonaudio.com Dams...</td>\n",
       "    </tr>\n",
       "    <tr>\n",
       "      <th>377</th>\n",
       "      <td>Ekonomi</td>\n",
       "      <td>Geleceğin ERP uzmanlarını yetiştireceğiz Nebim...</td>\n",
       "    </tr>\n",
       "    <tr>\n",
       "      <th>74</th>\n",
       "      <td>Bilimsel</td>\n",
       "      <td>Mehmet Erkan Oğur[1] (17 Nisan 1954, Ankara[2]...</td>\n",
       "    </tr>\n",
       "    <tr>\n",
       "      <th>947</th>\n",
       "      <td>Siyasi</td>\n",
       "      <td>Beşli çete, yakın zaman Türk siyasi tarihinde;...</td>\n",
       "    </tr>\n",
       "    <tr>\n",
       "      <th>1265</th>\n",
       "      <td>Doğal Afetler</td>\n",
       "      <td>Büyük Beyoğlu Yangını, 5 Haziran 1870 tarihind...</td>\n",
       "    </tr>\n",
       "  </tbody>\n",
       "</table>\n",
       "</div>"
      ],
      "text/plain": [
       "           category                                            content\n",
       "175        Bilimsel  Damson Cisor BT5 125  www.damsonaudio.com Dams...\n",
       "377         Ekonomi  Geleceğin ERP uzmanlarını yetiştireceğiz Nebim...\n",
       "74         Bilimsel  Mehmet Erkan Oğur[1] (17 Nisan 1954, Ankara[2]...\n",
       "947          Siyasi  Beşli çete, yakın zaman Türk siyasi tarihinde;...\n",
       "1265  Doğal Afetler  Büyük Beyoğlu Yangını, 5 Haziran 1870 tarihind..."
      ]
     },
     "execution_count": 2,
     "metadata": {},
     "output_type": "execute_result"
    }
   ],
   "source": [
    "df = pd.read_csv('../../Datas/data.csv')\n",
    "df.head()\n",
    "df.sample(n=5)"
   ]
  },
  {
   "cell_type": "markdown",
   "id": "01c7561a",
   "metadata": {},
   "source": [
    "## İlk Gözlem\n",
    "- `content`: metin verisi\n",
    "- `category`: hedef sınıf (etiket)\n"
   ]
  },
  {
   "cell_type": "code",
   "execution_count": 3,
   "id": "9a494d81",
   "metadata": {},
   "outputs": [
    {
     "name": "stderr",
     "output_type": "stream",
     "text": [
      "[nltk_data] Downloading package stopwords to\n",
      "[nltk_data]     C:\\Users\\uslan\\AppData\\Roaming\\nltk_data...\n",
      "[nltk_data]   Package stopwords is already up-to-date!\n"
     ]
    }
   ],
   "source": [
    "# Boş değerleri sil.\n",
    "# Küçük harfe çevir.\n",
    "# Noktalama ve sayıları temizle.\n",
    "# Stopwords temizliği yap.\n",
    "# Stemming bu projede opsiyonel\n",
    "nltk.download('stopwords')\n",
    "stop_words = set(stopwords.words('turkish'))\n",
    "\n",
    "def preprocess_text(text):\n",
    "    if not isinstance(text, str):\n",
    "        return \"\"\n",
    "    text = text.lower()\n",
    "    text = text.translate(str.maketrans('', '', string.punctuation))\n",
    "    text = re.sub(r'\\d+', '', text)\n",
    "    tokens = text.split()\n",
    "    tokens = [word for word in tokens if word not in stop_words]\n",
    "    return ' '.join(tokens)\n",
    "\n",
    "df.dropna(subset=['content', 'category'], inplace=True)\n",
    "df['processed_data'] = df['content'].apply(preprocess_text)"
   ]
  },
  {
   "cell_type": "code",
   "execution_count": 4,
   "id": "be753684",
   "metadata": {},
   "outputs": [
    {
     "data": {
      "text/plain": [
       "<Axes: xlabel='category'>"
      ]
     },
     "execution_count": 4,
     "metadata": {},
     "output_type": "execute_result"
    },
    {
     "data": {
      "image/png": "[encoded data removed]",
      "text/plain": [
       "<Figure size 640x480 with 1 Axes>"
      ]
     },
     "metadata": {},
     "output_type": "display_data"
    }
   ],
   "source": [
    "# Kategori dağılımını grafikle veya tabloda gör\n",
    "df['category'].value_counts().plot(kind='bar')"
   ]
  },
  {
   "cell_type": "code",
   "execution_count": 5,
   "id": "9426c34b",
   "metadata": {},
   "outputs": [],
   "source": [
    "from sklearn.feature_extraction.text import TfidfVectorizer\n",
    "\n",
    "vectorizer = TfidfVectorizer(max_features=1000)  \n",
    "#? vectorizer = TfidfVectorizer(ngram_range=(1,2), max_features=2000)\n",
    "\n",
    "\n",
    "X = vectorizer.fit_transform(df['processed_data'])"
   ]
  },
  {
   "cell_type": "code",
   "execution_count": 6,
   "id": "33a35e44",
   "metadata": {},
   "outputs": [
    {
     "data": {
      "text/html": [
       "<div>\n",
       "<style scoped>\n",
       "    .dataframe tbody tr th:only-of-type {\n",
       "        vertical-align: middle;\n",
       "    }\n",
       "\n",
       "    .dataframe tbody tr th {\n",
       "        vertical-align: top;\n",
       "    }\n",
       "\n",
       "    .dataframe thead th {\n",
       "        text-align: right;\n",
       "    }\n",
       "</style>\n",
       "<table border=\"1\" class=\"dataframe\">\n",
       "  <thead>\n",
       "    <tr style=\"text-align: right;\">\n",
       "      <th></th>\n",
       "      <th>category</th>\n",
       "      <th>content</th>\n",
       "      <th>processed_data</th>\n",
       "      <th>cluster</th>\n",
       "    </tr>\n",
       "  </thead>\n",
       "  <tbody>\n",
       "    <tr>\n",
       "      <th>288</th>\n",
       "      <td>Doğal Afetler</td>\n",
       "      <td>1964 Manyas depremi; 6 Ekim 1964 tarihinde mey...</td>\n",
       "      <td>manyas depremi ekim tarihinde meydana gelen me...</td>\n",
       "      <td>5</td>\n",
       "    </tr>\n",
       "    <tr>\n",
       "      <th>676</th>\n",
       "      <td>Kültürel</td>\n",
       "      <td>Genç kadının tuhaf hırsızlık girişimi! Adana n...</td>\n",
       "      <td>genç kadının tuhaf hırsızlık girişimi adana nı...</td>\n",
       "      <td>1</td>\n",
       "    </tr>\n",
       "    <tr>\n",
       "      <th>124</th>\n",
       "      <td>Bilimsel</td>\n",
       "      <td>İzmir Yüksek Teknoloji Enstitüsü (kısaca İYTE,...</td>\n",
       "      <td>i̇zmir yüksek teknoloji enstitüsü kısaca i̇yte...</td>\n",
       "      <td>1</td>\n",
       "    </tr>\n",
       "    <tr>\n",
       "      <th>161</th>\n",
       "      <td>Bilimsel</td>\n",
       "      <td>Monochroma yetişkinlere masalı sözsüz anlatıyo...</td>\n",
       "      <td>monochroma yetişkinlere masalı sözsüz anlatıyo...</td>\n",
       "      <td>1</td>\n",
       "    </tr>\n",
       "    <tr>\n",
       "      <th>462</th>\n",
       "      <td>Ekonomi</td>\n",
       "      <td>Türkiye, tarımsal üretimiyle dünyada 7. sırada...</td>\n",
       "      <td>türkiye tarımsal üretimiyle dünyada sırada tür...</td>\n",
       "      <td>1</td>\n",
       "    </tr>\n",
       "  </tbody>\n",
       "</table>\n",
       "</div>"
      ],
      "text/plain": [
       "          category                                            content  \\\n",
       "288  Doğal Afetler  1964 Manyas depremi; 6 Ekim 1964 tarihinde mey...   \n",
       "676       Kültürel  Genç kadının tuhaf hırsızlık girişimi! Adana n...   \n",
       "124       Bilimsel  İzmir Yüksek Teknoloji Enstitüsü (kısaca İYTE,...   \n",
       "161       Bilimsel  Monochroma yetişkinlere masalı sözsüz anlatıyo...   \n",
       "462        Ekonomi  Türkiye, tarımsal üretimiyle dünyada 7. sırada...   \n",
       "\n",
       "                                        processed_data  cluster  \n",
       "288  manyas depremi ekim tarihinde meydana gelen me...        5  \n",
       "676  genç kadının tuhaf hırsızlık girişimi adana nı...        1  \n",
       "124  i̇zmir yüksek teknoloji enstitüsü kısaca i̇yte...        1  \n",
       "161  monochroma yetişkinlere masalı sözsüz anlatıyo...        1  \n",
       "462  türkiye tarımsal üretimiyle dünyada sırada tür...        1  "
      ]
     },
     "execution_count": 6,
     "metadata": {},
     "output_type": "execute_result"
    }
   ],
   "source": [
    "from sklearn.cluster import AgglomerativeClustering\n",
    "\n",
    "# Küme sayısı belirleyelim (örnek: 5)\n",
    "# normalde 7 kategori var\n",
    "num_clusters = 7\n",
    "\n",
    "agglo = AgglomerativeClustering(n_clusters=num_clusters, metric='euclidean', linkage='ward')\n",
    "clusters = agglo.fit_predict(X.toarray())\n",
    "\n",
    "df['cluster'] = clusters\n",
    "\n",
    "df[['category', 'cluster']].head()\n",
    "df.sample(n=5)\n",
    "\n"
   ]
  },
  {
   "cell_type": "code",
   "execution_count": 7,
   "id": "c7d54194",
   "metadata": {},
   "outputs": [
    {
     "name": "stdout",
     "output_type": "stream",
     "text": [
      "Cluster-label eşleştirilmiş doğruluk: 0.5307\n",
      "Cluster - Gerçek kategori eşleşmeleri:\n",
      "Cluster 0 -> Spor\n",
      "Cluster 1 -> Ekonomi\n",
      "Cluster 2 -> Spor\n",
      "Cluster 3 -> Spor\n",
      "Cluster 4 -> Kültürel\n",
      "Cluster 5 -> Doğal Afetler\n",
      "Cluster 6 -> Siyasi\n"
     ]
    }
   ],
   "source": [
    "from sklearn.preprocessing import LabelEncoder\n",
    "from collections import Counter\n",
    "import numpy as np\n",
    "from sklearn.metrics import accuracy_score\n",
    "\n",
    "# Gerçek kategorileri sayısala dönüştür\n",
    "le = LabelEncoder()\n",
    "labels_num = le.fit_transform(df['category'])\n",
    "\n",
    "# Kümeleme sonuçları (senin clustering sonucu)\n",
    "clusters = agglo.fit_predict(X.toarray())\n",
    "\n",
    "cluster_label_map = {}\n",
    "\n",
    "# Her cluster için en çok bulunan kategori sayısal kodunu bul\n",
    "for cluster_id in np.unique(clusters):\n",
    "    mask = (clusters == cluster_id)\n",
    "    cluster_labels = labels_num[mask]\n",
    "    if len(cluster_labels) == 0:\n",
    "        print(\"Boş küme atlandı\")\n",
    "        continue\n",
    "    most_common_num = Counter(cluster_labels).most_common(1)[0][0]\n",
    "    cluster_label_map[cluster_id] = most_common_num  # burada atama yapılmalı\n",
    "\n",
    "# Sayısal kodları string kategori isimlerine dönüştür\n",
    "cluster_label_map_str = {cluster_id: le.inverse_transform([num])[0] \n",
    "                        for cluster_id, num in cluster_label_map.items()}\n",
    "\n",
    "# Tahmin edilen sayısal kategoriler (cluster'dan tahmin edilen kategori)\n",
    "predicted_num_categories = np.array([cluster_label_map[c] for c in clusters])\n",
    "\n",
    "# Sayısal kategorileri tekrar orijinal string label'a çevir\n",
    "predicted_categories = le.inverse_transform(predicted_num_categories)\n",
    "\n",
    "# Gerçek kategoriler\n",
    "true_categories = df['category'].values\n",
    "\n",
    "# Doğruluk ölçümü\n",
    "accuracy = accuracy_score(true_categories, predicted_categories)\n",
    "\n",
    "print(f\"Cluster-label eşleştirilmiş doğruluk: {accuracy:.4f}\")\n",
    "\n",
    "print(\"Cluster - Gerçek kategori eşleşmeleri:\")\n",
    "for cid, cat in cluster_label_map_str.items():\n",
    "    print(f\"Cluster {cid} -> {cat}\")\n"
   ]
  },
  {
   "cell_type": "code",
   "execution_count": 8,
   "id": "40516e48",
   "metadata": {},
   "outputs": [
    {
     "name": "stdout",
     "output_type": "stream",
     "text": [
      "Cluster-label eşleştirilmiş doğruluk: 0.5307\n",
      "Cluster - Gerçek kategori eşleşmeleri:\n",
      "Cluster 0 -> Spor\n",
      "Cluster 1 -> Ekonomi\n",
      "Cluster 2 -> Spor\n",
      "Cluster 3 -> Spor\n",
      "Cluster 4 -> Kültürel\n",
      "Cluster 5 -> Doğal Afetler\n",
      "Cluster 6 -> Siyasi\n"
     ]
    }
   ],
   "source": [
    "from sklearn.preprocessing import LabelEncoder\n",
    "from collections import Counter\n",
    "import numpy as np\n",
    "from sklearn.metrics import accuracy_score\n",
    "\n",
    "# Gerçek kategorileri sayısala dönüştür\n",
    "le = LabelEncoder()\n",
    "labels_num = le.fit_transform(df['category'])\n",
    "\n",
    "# Kümeleme sonuçları (senin clustering sonucu)\n",
    "clusters = agglo.fit_predict(X.toarray())\n",
    "\n",
    "cluster_label_map = {}\n",
    "\n",
    "# Her cluster için en çok bulunan kategori sayısal kodunu bul\n",
    "for cluster_id in np.unique(clusters):\n",
    "    mask = (clusters == cluster_id)\n",
    "    cluster_labels = labels_num[mask]\n",
    "    if len(cluster_labels) == 0:\n",
    "        print(\"Boş küme atlandı\")\n",
    "        continue\n",
    "    most_common_num = Counter(cluster_labels).most_common(1)[0][0]\n",
    "    cluster_label_map[cluster_id] = most_common_num  # burada atama yapılmalı\n",
    "\n",
    "# Sayısal kodları string kategori isimlerine dönüştür\n",
    "cluster_label_map_str = {cluster_id: le.inverse_transform([num])[0] \n",
    "                        for cluster_id, num in cluster_label_map.items()}\n",
    "\n",
    "# Tahmin edilen sayısal kategoriler (cluster'dan tahmin edilen kategori)\n",
    "predicted_num_categories = np.array([cluster_label_map[c] for c in clusters])\n",
    "\n",
    "# Sayısal kategorileri tekrar orijinal string label'a çevir\n",
    "predicted_categories = le.inverse_transform(predicted_num_categories)\n",
    "\n",
    "# Gerçek kategoriler\n",
    "true_categories = df['category'].values\n",
    "\n",
    "# Doğruluk ölçümü\n",
    "accuracy = accuracy_score(true_categories, predicted_categories)\n",
    "\n",
    "print(f\"Cluster-label eşleştirilmiş doğruluk: {accuracy:.4f}\")\n",
    "\n",
    "print(\"Cluster - Gerçek kategori eşleşmeleri:\")\n",
    "for cid, cat in cluster_label_map_str.items():\n",
    "    print(f\"Cluster {cid} -> {cat}\")\n"
   ]
  },
  {
   "cell_type": "code",
   "execution_count": 9,
   "id": "54eca85b",
   "metadata": {},
   "outputs": [
    {
     "name": "stdout",
     "output_type": "stream",
     "text": [
      "'../../Models/SBERT' dizini başarıyla oluşturuldu veya zaten mevcut.\n",
      "Modelin kaydedileceği tam yol: c:\\Users\\uslan\\OneDrive\\Desktop\\CENG Notes\\3.Sınıf Dersleri\\Machine Learning\\Dejaview-CENG3522\\Models\\SBERT\\agglo_model.joblib\n",
      "Model '../../Models/SBERT\\agglo_model.joblib' konumuna başarıyla kaydedildi.\n",
      "Model '../../Models/SBERT\\agglo_model.joblib' konumundan başarıyla yüklendi.\n",
      "Yüklenen model içeriği: AgglomerativeClustering(n_clusters=7)\n"
     ]
    }
   ],
   "source": [
    "import joblib\n",
    "import os\n",
    "\n",
    "target_base_dir = '../../Models/SBERT'\n",
    "\n",
    "# Modelin tam kaydedileceği yol\n",
    "model_save_path = os.path.join(target_base_dir, 'agglo_model.joblib')\n",
    "\n",
    "try:\n",
    "    # Hedef dizini oluştur. exist_ok=True sayesinde zaten varsa hata vermez.\n",
    "    os.makedirs(target_base_dir, exist_ok=True)\n",
    "    print(f\"'{target_base_dir}' dizini başarıyla oluşturuldu veya zaten mevcut.\")\n",
    "    print(f\"Modelin kaydedileceği tam yol: {os.path.abspath(model_save_path)}\") # Tam yolu gösterelim\n",
    "except Exception as e:\n",
    "    print(f\"Dizin oluşturulurken bir hata oluştu: {e}\")\n",
    "    exit()\n",
    "\n",
    "\n",
    "# Modeli kaydet\n",
    "try:\n",
    "    joblib.dump(agglo, model_save_path)\n",
    "    print(f\"Model '{model_save_path}' konumuna başarıyla kaydedildi.\")\n",
    "except Exception as e:\n",
    "    print(f\"Model kaydedilirken bir hata oluştu: {e}\")\n",
    "\n",
    "# Daha sonra tekrar yüklemek için\n",
    "try:\n",
    "    agglo_loaded = joblib.load(model_save_path)\n",
    "    print(f\"Model '{model_save_path}' konumundan başarıyla yüklendi.\")\n",
    "    print(f\"Yüklenen model içeriği: {agglo_loaded}\")\n",
    "except FileNotFoundError:\n",
    "    print(f\"Model dosyası '{model_save_path}' bulunamadı.\")\n",
    "except Exception as e:\n",
    "    print(f\"Model yüklenirken bir hata oluştu: {e}\")"
   ]
  },
  {
   "cell_type": "code",
   "execution_count": null,
   "id": "43ba09ad",
   "metadata": {},
   "outputs": [
    {
     "name": "stderr",
     "output_type": "stream",
     "text": [
      "[nltk_data] Downloading package stopwords to\n",
      "[nltk_data]     C:\\Users\\uslan\\AppData\\Roaming\\nltk_data...\n",
      "[nltk_data]   Package stopwords is already up-to-date!\n"
     ]
    },
    {
     "name": "stdout",
     "output_type": "stream",
     "text": [
      "Cluster-label eşleştirilmiş doğruluk: 0.5307\n",
      "Cluster - Gerçek kategori eşleşmeleri:\n",
      "Cluster 0 -> Spor\n",
      "Cluster 1 -> Ekonomi\n",
      "Cluster 2 -> Spor\n",
      "Cluster 3 -> Spor\n",
      "Cluster 4 -> Kültürel\n",
      "Cluster 5 -> Doğal Afetler\n",
      "Cluster 6 -> Siyasi\n"
     ]
    },
    {
     "ename": "FileNotFoundError",
     "evalue": "[Errno 2] No such file or directory: 'Models/agglo_model.joblib'",
     "output_type": "error",
     "traceback": [
      "\u001b[31m---------------------------------------------------------------------------\u001b[39m",
      "\u001b[31mFileNotFoundError\u001b[39m                         Traceback (most recent call last)",
      "\u001b[36mCell\u001b[39m\u001b[36m \u001b[39m\u001b[32mIn[2]\u001b[39m\u001b[32m, line 141\u001b[39m\n\u001b[32m    138\u001b[39m \u001b[38;5;28;01mimport\u001b[39;00m\u001b[38;5;250m \u001b[39m\u001b[34;01mjoblib\u001b[39;00m\n\u001b[32m    140\u001b[39m \u001b[38;5;66;03m# Model ve vectorizer'ı kaydet\u001b[39;00m\n\u001b[32m--> \u001b[39m\u001b[32m141\u001b[39m \u001b[43mjoblib\u001b[49m\u001b[43m.\u001b[49m\u001b[43mdump\u001b[49m\u001b[43m(\u001b[49m\u001b[43magglo\u001b[49m\u001b[43m,\u001b[49m\u001b[43m \u001b[49m\u001b[33;43m'\u001b[39;49m\u001b[33;43mModels/agglo_model.joblib\u001b[39;49m\u001b[33;43m'\u001b[39;49m\u001b[43m)\u001b[49m\n\u001b[32m    142\u001b[39m joblib.dump(vectorizer, \u001b[33m'\u001b[39m\u001b[33mModels/tfidf_vectorizer.joblib\u001b[39m\u001b[33m'\u001b[39m)\n\u001b[32m    144\u001b[39m \u001b[38;5;66;03m# Daha sonra tekrar yüklemek için\u001b[39;00m\n",
      "\u001b[36mFile \u001b[39m\u001b[32m~\\AppData\\Roaming\\Python\\Python312\\site-packages\\joblib\\numpy_pickle.py:552\u001b[39m, in \u001b[36mdump\u001b[39m\u001b[34m(value, filename, compress, protocol, cache_size)\u001b[39m\n\u001b[32m    550\u001b[39m         NumpyPickler(f, protocol=protocol).dump(value)\n\u001b[32m    551\u001b[39m \u001b[38;5;28;01melif\u001b[39;00m is_filename:\n\u001b[32m--> \u001b[39m\u001b[32m552\u001b[39m     \u001b[38;5;28;01mwith\u001b[39;00m \u001b[38;5;28;43mopen\u001b[39;49m\u001b[43m(\u001b[49m\u001b[43mfilename\u001b[49m\u001b[43m,\u001b[49m\u001b[43m \u001b[49m\u001b[33;43m'\u001b[39;49m\u001b[33;43mwb\u001b[39;49m\u001b[33;43m'\u001b[39;49m\u001b[43m)\u001b[49m \u001b[38;5;28;01mas\u001b[39;00m f:\n\u001b[32m    553\u001b[39m         NumpyPickler(f, protocol=protocol).dump(value)\n\u001b[32m    554\u001b[39m \u001b[38;5;28;01melse\u001b[39;00m:\n",
      "\u001b[31mFileNotFoundError\u001b[39m: [Errno 2] No such file or directory: 'Models/agglo_model.joblib'"
     ]
    },
    {
     "data": {
      "image/png": "[encoded data removed]",
      "text/plain": [
       "<Figure size 640x480 with 1 Axes>"
      ]
     },
     "metadata": {},
     "output_type": "display_data"
    }
   ],
   "source": [
    "\n",
    "# %%\n",
    "import matplotlib.pyplot as plt\n",
    "from sklearn.decomposition import PCA\n",
    "import numpy as np\n",
    "\n",
    "# PCA ile 2 boyuta indir\n",
    "pca = PCA(n_components=2)\n",
    "X_pca = pca.fit_transform(X.toarray())\n",
    "\n",
    "num_clusters = len(np.unique(clusters))\n",
    "colors = plt.cm.tab10.colors\n",
    "\n",
    "plt.figure(figsize=(12,8))\n",
    "\n",
    "for cluster_id in range(num_clusters):\n",
    "    idx = np.where(clusters == cluster_id)\n",
    "    plt.scatter(X_pca[idx,0], X_pca[idx,1], \n",
    "                color=colors[cluster_id % 10], \n",
    "                label=f\"Cluster {cluster_id} - {cluster_label_map_str[cluster_id]}\", \n",
    "                alpha=0.7)\n",
    "\n",
    "\n",
    "plt.title('Agglomerative Clustering sonrası PCA ile 2D görselleştirme')\n",
    "plt.xlabel('PCA 1')\n",
    "plt.ylabel('PCA 2')\n",
    "plt.legend(title=\"Clusters (En yaygın kategori)\", loc='upper right')\n",
    "plt.show()\n",
    "\n",
    "\n",
    "# %%\n",
    "import matplotlib.pyplot as plt\n",
    "from scipy.cluster.hierarchy import dendrogram, linkage\n",
    "\n",
    "linked = linkage(X.toarray(), method='ward')\n",
    "\n",
    "plt.figure(figsize=(12, 6))\n",
    "dendrogram(linked, truncate_mode='level', p=5)  # sadece ilk 5 seviyeyi gösterir\n",
    "plt.title('Agglomerative Clustering Dendrogram')\n",
    "plt.xlabel('Örnekler')\n",
    "plt.ylabel('Mesafe')\n",
    "plt.show()\n",
    "\n",
    "\n",
    "# %% [markdown]\n",
    "# \n",
    "\n",
    "# %%\n",
    "import matplotlib.pyplot as plt\n",
    "import numpy as np\n",
    "import pandas as pd\n",
    "\n",
    "# Gerçek kategori oranları\n",
    "true_counts = df['category'].value_counts(normalize=True).sort_index()\n",
    "\n",
    "# Tahmin edilen kategori oranları\n",
    "predicted_counts = pd.Series(predicted_categories).value_counts(normalize=True).sort_index()\n",
    "\n",
    "# Tüm kategoriler (gerçek ve tahmin edilenlerde birleşik)\n",
    "all_categories = sorted(set(true_counts.index).union(predicted_counts.index))\n",
    "\n",
    "true_vals = [true_counts.get(cat, 0) for cat in all_categories]\n",
    "predicted_vals = [predicted_counts.get(cat, 0) for cat in all_categories]\n",
    "\n",
    "x = np.arange(len(all_categories))\n",
    "width = 0.35\n",
    "\n",
    "fig, ax = plt.subplots(figsize=(12,6))\n",
    "rects1 = ax.bar(x - width/2, true_vals, width, label='Gerçek Kategori Oranları')\n",
    "rects2 = ax.bar(x + width/2, predicted_vals, width, label='Tahmin Kategori Oranları')\n",
    "\n",
    "ax.set_ylabel('Oran')\n",
    "ax.set_title('Gerçek ve Tahmin Edilen Kategori Oranları Karşılaştırması')\n",
    "ax.set_xticks(x)\n",
    "ax.set_xticklabels(all_categories, rotation=45, ha='right')\n",
    "ax.legend()\n",
    "\n",
    "plt.tight_layout()\n",
    "plt.show()\n",
    "\n",
    "\n",
    "\n"
   ]
  }
 ],
 "metadata": {
  "kernelspec": {
   "display_name": "base",
   "language": "python",
   "name": "python3"
  },
  "language_info": {
   "codemirror_mode": {
    "name": "ipython",
    "version": 3
   },
   "file_extension": ".py",
   "mimetype": "text/x-python",
   "name": "python",
   "nbconvert_exporter": "python",
   "pygments_lexer": "ipython3",
   "version": "3.12.7"
  }
 },
 "nbformat": 4,
 "nbformat_minor": 5
}
